{
    "cells": [
        {
            "cell_type": "code",
            "execution_count": 264,
            "metadata": {},
            "outputs": [],
            "source": "import pandas as pd\nimport numpy as np\nimport requests\nfrom bs4 import BeautifulSoup\nimport os.path\nfrom os import path\nfrom geopy.geocoders import Nominatim\nimport math\nimport time"
        },
        {
            "cell_type": "code",
            "execution_count": 270,
            "metadata": {},
            "outputs": [],
            "source": "#Function to extract Neighborhoods from Wikipedia\ndef extractFromWikipedia():\n    \n    url = \"https://en.wikipedia.org/wiki/List_of_districts_and_neighborhoods_of_Los_Angeles\"\n    response = requests.get(url)\n    html = response.text\n    parsedHtml = BeautifulSoup(html, \"html.parser\")\n    #Get all the links\n    links = parsedHtml.findAll('a')\n    #Extract the name of those links we are interested in\n    nbhs = []\n    for link in links:\n        if str(link).find(', Los Angeles') > 0:\n            neighborhood = link.text\n            comma = neighborhood.find(', ')\n            if comma > 0:\n                neighborhood = neighborhood[0:comma]\n            link = 'https://en.wikipedia.org'+link['href']\n            nbhs.append([neighborhood, link])\n            print(neighborhood)\n    nb_df = pd.DataFrame(nbhs)    \n    nb_df.rename(columns={0:'Neighborhood', 1:'Link'}, inplace=True)\n    #Remove duplicates\n    nb_df.drop_duplicates(subset=\"Neighborhood\", keep = False, inplace = True)\n    #Add geo columns\n    nb_df['Lat']=''\n    nb_df['Lon']=''\n    #Save results\n    saveToFile(nb_df)\n    print('Data saved to LosAngeles_tmp.csv')\n    return nb_df"
        },
        {
            "cell_type": "code",
            "execution_count": 271,
            "metadata": {},
            "outputs": [],
            "source": "def saveToFile(nb_df):\n    #Save data to file\n    nb_df.to_csv('LosAngeles_tmp.csv', index=False)"
        },
        {
            "cell_type": "code",
            "execution_count": 272,
            "metadata": {},
            "outputs": [],
            "source": "def getAllCoordinates(nb_df):\n    count = 0\n    for index, row in nb_df.iterrows():\n        if math.isnan(row['Lat']):\n            count = count + 1\n            geo = getCoordinates(row['Neighborhood'])\n            if geo != False:\n                nb_df.at[index,'Lat'] = geo['lat']\n                nb_df.at[index,'Lon'] = geo['lon']\n            else:    \n                nb_df.at[index,'Lat'] = -999\n                nb_df.at[index,'Lon'] = -999\n            #Save the file each time we get new coordinates (geo service fails frequently)\n            saveToFile(nb_df)\n            time.sleep(1)    \n    return count       "
        },
        {
            "cell_type": "code",
            "execution_count": 273,
            "metadata": {},
            "outputs": [],
            "source": "def getCoordinates(neighborhood):\n    geo = False\n    print(\"Getting coordinates from \" + neighborhood)\n    address = neighborhood + \", Los Angeles\"\n    geolocator = Nominatim(user_agent=\"LosAngelesBrowser\")\n    location = geolocator.geocode(address)\n    #print(location.address) \n    if location is None:\n        print(\"Unable to get coordinates from \"+address)\n    else:    \n        geo = {'lat':location.latitude, 'lon':location.longitude}\n    return geo    \n        "
        },
        {
            "cell_type": "code",
            "execution_count": 275,
            "metadata": {},
            "outputs": [
                {
                    "name": "stdout",
                    "output_type": "stream",
                    "text": "Reading neighborhoods from file\nComplete!\n"
                }
            ],
            "source": "if path.exists('LosAngeles_tmp.csv'):\n    print('Reading neighborhoods from file')\n    nb_df = pd.read_csv('LosAngeles_tmp.csv')\nelse:\n    print('Extracting neighborhoods from Wikipedia')\n    nb_df = extractFromWikipedia()\nif getAllCoordinates(nb_df) == 0:\n    print('Complete!')\n    nb_def_df = nb_df[nb_df['Lat'] != -999]\n    nb_def_df.to_csv('LosAngeles.csv', index=False)"
        },
        {
            "cell_type": "code",
            "execution_count": 263,
            "metadata": {},
            "outputs": [],
            "source": ""
        },
        {
            "cell_type": "code",
            "execution_count": null,
            "metadata": {},
            "outputs": [],
            "source": ""
        }
    ],
    "metadata": {
        "kernelspec": {
            "display_name": "Python 3",
            "language": "python",
            "name": "python3"
        },
        "language_info": {
            "codemirror_mode": {
                "name": "ipython",
                "version": 3
            },
            "file_extension": ".py",
            "mimetype": "text/x-python",
            "name": "python",
            "nbconvert_exporter": "python",
            "pygments_lexer": "ipython3",
            "version": "3.7.4"
        }
    },
    "nbformat": 4,
    "nbformat_minor": 2
}